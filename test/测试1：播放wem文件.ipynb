{
 "cells": [
  {
   "cell_type": "code",
   "execution_count": 17,
   "id": "3c563325",
   "metadata": {},
   "outputs": [
    {
     "name": "stdout",
     "output_type": "stream",
     "text": [
      "metadata for C://Users//user//Desktop//vgmstream-win//165208643.wem\n",
      "sample rate: 44100 Hz\n",
      "channels: 2\n",
      "channel mask: 0x3 / FL FR\n",
      "stream total samples: 8467200 (3:12.000 seconds)\n",
      "encoding: Little Endian 16-bit PCM\n",
      "layout: interleave\n",
      "interleave: 0x2 bytes\n",
      "metadata from: Audiokinetic Wwise RIFF header\n",
      "bitrate: 1411 kbps\n",
      "play duration: 8467200 samples (3:12.000 seconds)\n",
      "\n"
     ]
    }
   ],
   "source": [
    "# Test01 显示wem文件信息\n",
    "# 导入subprocess\n",
    "import subprocess \n",
    "\n",
    "# test.exe路径\n",
    "testexe_file = 'C://Users//user//Desktop//vgmstream-win//test.exe'\n",
    "\n",
    "# wem文件路径\n",
    "wem_file = 'C://Users//user//Desktop//vgmstream-win//165208643.wem'\n",
    "\n",
    "# 获取该文件信息\n",
    "shell_text = testexe_file + ' -m ' + wem_file\n",
    "\n",
    "decode_process = subprocess.Popen(shell_text,shell=True,stdout=subprocess.PIPE,stderr=subprocess.STDOUT,encoding='gb2312')\n",
    "\n",
    "# 输出执行结果\n",
    "print(decode_process.communicate()[0])\n",
    "\n",
    "\n",
    "\n"
   ]
  },
  {
   "cell_type": "code",
   "execution_count": 26,
   "id": "222ac620",
   "metadata": {},
   "outputs": [
    {
     "name": "stdout",
     "output_type": "stream",
     "text": [
      "165208643\n",
      "C://Users//user//Desktop//vgmstream-win//165208643.wav\n",
      "decoding C://Users//user//Desktop//vgmstream-win//165208643.wem\n",
      "sample rate: 44100 Hz\n",
      "channels: 2\n",
      "channel mask: 0x3 / FL FR\n",
      "stream total samples: 8467200 (3:12.000 seconds)\n",
      "encoding: Little Endian 16-bit PCM\n",
      "layout: interleave\n",
      "interleave: 0x2 bytes\n",
      "metadata from: Audiokinetic Wwise RIFF header\n",
      "bitrate: 1411 kbps\n",
      "play duration: 8467200 samples (3:12.000 seconds)\n",
      "\n"
     ]
    }
   ],
   "source": [
    "# Test02 wem文件转为wav文件,并显示信息\n",
    "# 导入subprocess\n",
    "import subprocess \n",
    "\n",
    "# test.exe路径\n",
    "testexe_file = 'C://Users//user//Desktop//vgmstream-win//test.exe'\n",
    "\n",
    "# 输入wem文件路径\n",
    "wem_file = 'C://Users//user//Desktop//vgmstream-win//165208643.wem'\n",
    "\n",
    "# 输出wav名称\n",
    "wav_name = wem_file.split(\"//\")[-1].split(\".wem\")[0]\n",
    "print(wav_name)\n",
    "\n",
    "# 输出wav文件路径\n",
    "wav_file = 'C://Users//user//Desktop//vgmstream-win//'+ wav_name +\".wav\"\n",
    "print(wav_file)\n",
    "\n",
    "# 获取该文件信息\n",
    "shell_text = testexe_file + ' -o ' + wav_file + ' '+ wem_file\n",
    "\n",
    "decode_process = subprocess.Popen(shell_text,shell=True,stdout=subprocess.PIPE,stderr=subprocess.STDOUT,encoding='gb2312')\n",
    "\n",
    "# 输出执行结果\n",
    "print(decode_process.communicate()[0])\n",
    "\n"
   ]
  },
  {
   "cell_type": "code",
   "execution_count": null,
   "id": "7cf41543",
   "metadata": {},
   "outputs": [],
   "source": [
    "# Test03 解压.bnk文件"
   ]
  }
 ],
 "metadata": {
  "kernelspec": {
   "display_name": "Python 3 (ipykernel)",
   "language": "python",
   "name": "python3"
  },
  "language_info": {
   "codemirror_mode": {
    "name": "ipython",
    "version": 3
   },
   "file_extension": ".py",
   "mimetype": "text/x-python",
   "name": "python",
   "nbconvert_exporter": "python",
   "pygments_lexer": "ipython3",
   "version": "3.9.13"
  }
 },
 "nbformat": 4,
 "nbformat_minor": 5
}
